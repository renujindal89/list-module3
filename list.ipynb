{
 "cells": [
  {
   "cell_type": "code",
   "execution_count": null,
   "id": "6431b96c-6a7b-4a22-ada7-ac04e9dca955",
   "metadata": {},
   "outputs": [],
   "source": [
    "1. Introduction to Lists\n",
    "\n",
    "A list is a mutable (changeable), ordered sequence of elements.\n",
    "\n",
    "Lists can hold items of any data type (including mixed types)."
   ]
  },
  {
   "cell_type": "code",
   "execution_count": null,
   "id": "703c2024-ce07-48b5-84aa-2e02c8b26e10",
   "metadata": {},
   "outputs": [],
   "source": [
    "list characterstics\n",
    "ordered\n",
    "items can be access\n",
    "changable\n",
    "heterogenous\n",
    "can have duplicate value\n",
    "are dynamic\n",
    "can be nested\n",
    "can contain any type of object\n"
   ]
  },
  {
   "cell_type": "code",
   "execution_count": null,
   "id": "d7cab6b3-3141-484a-971b-fb06095f5105",
   "metadata": {},
   "outputs": [],
   "source": [
    "#list v/s array\n",
    "access\n",
    "editing\n",
    "deleting\n",
    "operation\n",
    "function\n"
   ]
  },
  {
   "cell_type": "code",
   "execution_count": null,
   "id": "904714db-a153-45c7-9cab-51818947813a",
   "metadata": {},
   "outputs": [],
   "source": []
  },
  {
   "cell_type": "code",
   "execution_count": null,
   "id": "0d871827-478c-4846-bf8b-c481e7f5478f",
   "metadata": {},
   "outputs": [],
   "source": []
  },
  {
   "cell_type": "code",
   "execution_count": null,
   "id": "6d386e4f-8673-4006-8a70-885cbe9e4f0a",
   "metadata": {},
   "outputs": [],
   "source": []
  },
  {
   "cell_type": "code",
   "execution_count": null,
   "id": "bd175dd7-9c73-4989-bd97-70fd9ce30782",
   "metadata": {},
   "outputs": [],
   "source": [
    "comma seperated with in sq bracket\n",
    "we can store multiple information under one variable"
   ]
  },
  {
   "cell_type": "code",
   "execution_count": null,
   "id": "b497c60a-51be-4f43-8553-597768833082",
   "metadata": {},
   "outputs": [],
   "source": [
    "#representation "
   ]
  },
  {
   "cell_type": "code",
   "execution_count": null,
   "id": "6a7695dc-6bc7-4f92-bea9-04c70f69c558",
   "metadata": {},
   "outputs": [],
   "source": [
    "# Example:\n",
    "l1 = [1, \"hello\", 3.14, True]"
   ]
  },
  {
   "cell_type": "code",
   "execution_count": 21,
   "id": "3cdc7c02-4301-4c77-8108-220e6f02785d",
   "metadata": {},
   "outputs": [
    {
     "data": {
      "text/plain": [
       "30"
      ]
     },
     "execution_count": 21,
     "metadata": {},
     "output_type": "execute_result"
    }
   ],
   "source": [
    "l=[20,\"java\",35.76,[30,40,24]]\n",
    "l[3][0]"
   ]
  },
  {
   "cell_type": "code",
   "execution_count": null,
   "id": "aef1713c-a177-4bd0-a5bc-e99aff46e2d9",
   "metadata": {},
   "outputs": [],
   "source": [
    "#take every element as a row"
   ]
  },
  {
   "cell_type": "code",
   "execution_count": 1,
   "id": "8de37bf1-4b5e-410c-8fff-bcee269ad31d",
   "metadata": {},
   "outputs": [],
   "source": [
    "import pandas as pd"
   ]
  },
  {
   "cell_type": "code",
   "execution_count": 31,
   "id": "bd6df341-4eed-422f-aee6-ad2f949690f5",
   "metadata": {
    "scrolled": true
   },
   "outputs": [
    {
     "name": "stdout",
     "output_type": "stream",
     "text": [
      "     name\n",
      "0    renu\n",
      "1    ritu\n",
      "2   sahil\n",
      "3  yuvaan\n",
      "4  advika\n"
     ]
    }
   ],
   "source": [
    "l=['renu','ritu','sahil','yuvaan','advika']\n",
    "\n",
    "df_col = pd.DataFrame(l,columns=['name'])\n",
    "print(df_col)"
   ]
  },
  {
   "cell_type": "code",
   "execution_count": 42,
   "id": "fb061077-3941-4e6a-9f05-6d4eebd5e518",
   "metadata": {},
   "outputs": [
    {
     "name": "stdout",
     "output_type": "stream",
     "text": [
      "   name  age     add\n",
      "0  renu   36  ambala\n"
     ]
    }
   ],
   "source": [
    "data = ['renu',36,'ambala']\n",
    "\n",
    "df = pd.DataFrame([data],columns=['name','age','add'])\n",
    "print(df)"
   ]
  },
  {
   "cell_type": "code",
   "execution_count": 43,
   "id": "c94450ac-611e-49eb-860f-bf2f9a6a80b1",
   "metadata": {},
   "outputs": [
    {
     "data": {
      "text/html": [
       "<div>\n",
       "<style scoped>\n",
       "    .dataframe tbody tr th:only-of-type {\n",
       "        vertical-align: middle;\n",
       "    }\n",
       "\n",
       "    .dataframe tbody tr th {\n",
       "        vertical-align: top;\n",
       "    }\n",
       "\n",
       "    .dataframe thead th {\n",
       "        text-align: right;\n",
       "    }\n",
       "</style>\n",
       "<table border=\"1\" class=\"dataframe\">\n",
       "  <thead>\n",
       "    <tr style=\"text-align: right;\">\n",
       "      <th></th>\n",
       "      <th>name</th>\n",
       "      <th>age</th>\n",
       "      <th>add</th>\n",
       "    </tr>\n",
       "  </thead>\n",
       "  <tbody>\n",
       "    <tr>\n",
       "      <th>0</th>\n",
       "      <td>renu</td>\n",
       "      <td>36</td>\n",
       "      <td>ambala</td>\n",
       "    </tr>\n",
       "    <tr>\n",
       "      <th>1</th>\n",
       "      <td>yuvaan</td>\n",
       "      <td>9</td>\n",
       "      <td>ambala</td>\n",
       "    </tr>\n",
       "  </tbody>\n",
       "</table>\n",
       "</div>"
      ],
      "text/plain": [
       "     name  age     add\n",
       "0    renu   36  ambala\n",
       "1  yuvaan    9  ambala"
      ]
     },
     "execution_count": 43,
     "metadata": {},
     "output_type": "execute_result"
    }
   ],
   "source": [
    "l=['yuvaan',9,'ambala']\n",
    "df.loc[len(df)]=l\n",
    "df"
   ]
  },
  {
   "cell_type": "code",
   "execution_count": null,
   "id": "25d845af-3944-4898-a2b2-57a974a5d8fd",
   "metadata": {},
   "outputs": [],
   "source": []
  },
  {
   "cell_type": "code",
   "execution_count": 45,
   "id": "120d861b-20e3-4653-834d-3e70e6d093f0",
   "metadata": {},
   "outputs": [
    {
     "name": "stdout",
     "output_type": "stream",
     "text": [
      "    X    Y    Z\n",
      "0  10   20   30\n",
      "1  50   60   70\n",
      "2  90  100  120\n"
     ]
    }
   ],
   "source": [
    "data = [\n",
    "    [10, 20, 30],   # Row 1\n",
    "    [50, 60, 70],   # Row 2\n",
    "    [90, 100, 120] # Row 3\n",
    "]\n",
    "\n",
    "df1 = pd.DataFrame(data, columns=['X', 'Y', 'Z'])\n",
    "print(df1)"
   ]
  },
  {
   "cell_type": "code",
   "execution_count": 48,
   "id": "c9fccae7-fe9d-4b10-9c37-a828c6cee170",
   "metadata": {},
   "outputs": [
    {
     "data": {
      "text/html": [
       "<div>\n",
       "<style scoped>\n",
       "    .dataframe tbody tr th:only-of-type {\n",
       "        vertical-align: middle;\n",
       "    }\n",
       "\n",
       "    .dataframe tbody tr th {\n",
       "        vertical-align: top;\n",
       "    }\n",
       "\n",
       "    .dataframe thead th {\n",
       "        text-align: right;\n",
       "    }\n",
       "</style>\n",
       "<table border=\"1\" class=\"dataframe\">\n",
       "  <thead>\n",
       "    <tr style=\"text-align: right;\">\n",
       "      <th></th>\n",
       "      <th>name</th>\n",
       "      <th>age</th>\n",
       "      <th>add</th>\n",
       "      <th>X</th>\n",
       "      <th>Y</th>\n",
       "      <th>Z</th>\n",
       "    </tr>\n",
       "  </thead>\n",
       "  <tbody>\n",
       "    <tr>\n",
       "      <th>0</th>\n",
       "      <td>renu</td>\n",
       "      <td>36.0</td>\n",
       "      <td>ambala</td>\n",
       "      <td>NaN</td>\n",
       "      <td>NaN</td>\n",
       "      <td>NaN</td>\n",
       "    </tr>\n",
       "    <tr>\n",
       "      <th>1</th>\n",
       "      <td>yuvaan</td>\n",
       "      <td>9.0</td>\n",
       "      <td>ambala</td>\n",
       "      <td>NaN</td>\n",
       "      <td>NaN</td>\n",
       "      <td>NaN</td>\n",
       "    </tr>\n",
       "    <tr>\n",
       "      <th>2</th>\n",
       "      <td>NaN</td>\n",
       "      <td>NaN</td>\n",
       "      <td>NaN</td>\n",
       "      <td>10.0</td>\n",
       "      <td>20.0</td>\n",
       "      <td>30.0</td>\n",
       "    </tr>\n",
       "    <tr>\n",
       "      <th>3</th>\n",
       "      <td>NaN</td>\n",
       "      <td>NaN</td>\n",
       "      <td>NaN</td>\n",
       "      <td>50.0</td>\n",
       "      <td>60.0</td>\n",
       "      <td>70.0</td>\n",
       "    </tr>\n",
       "    <tr>\n",
       "      <th>4</th>\n",
       "      <td>NaN</td>\n",
       "      <td>NaN</td>\n",
       "      <td>NaN</td>\n",
       "      <td>90.0</td>\n",
       "      <td>100.0</td>\n",
       "      <td>120.0</td>\n",
       "    </tr>\n",
       "  </tbody>\n",
       "</table>\n",
       "</div>"
      ],
      "text/plain": [
       "     name   age     add     X      Y      Z\n",
       "0    renu  36.0  ambala   NaN    NaN    NaN\n",
       "1  yuvaan   9.0  ambala   NaN    NaN    NaN\n",
       "2     NaN   NaN     NaN  10.0   20.0   30.0\n",
       "3     NaN   NaN     NaN  50.0   60.0   70.0\n",
       "4     NaN   NaN     NaN  90.0  100.0  120.0"
      ]
     },
     "execution_count": 48,
     "metadata": {},
     "output_type": "execute_result"
    }
   ],
   "source": [
    "pd.concat([df,df1],ignore_index=True)"
   ]
  },
  {
   "cell_type": "code",
   "execution_count": null,
   "id": "1e4c32ca-1449-44b7-bc1b-a222a3160c38",
   "metadata": {},
   "outputs": [],
   "source": []
  },
  {
   "cell_type": "code",
   "execution_count": 54,
   "id": "94a08946-4606-4521-8043-efcc47e03de3",
   "metadata": {},
   "outputs": [
    {
     "name": "stdout",
     "output_type": "stream",
     "text": [
      "[]\n"
     ]
    }
   ],
   "source": [
    "# Empty list\n",
    "a = []\n",
    "print(a)\n",
    "\n",
    "# With elements\n",
    "b = [10, 20, 30]\n",
    "\n",
    "# 2d list\n",
    "d=[[1,2,3,4],[3,4],[3,45,34]]\n",
    "d[0]\n",
    "\n",
    "# type conversion\n",
    "c = list(\"Python\")  # ['P', 'y', 't', 'h', 'o', 'n']"
   ]
  },
  {
   "cell_type": "code",
   "execution_count": 53,
   "id": "4009115b-04f3-49ca-9992-0ee9fe242795",
   "metadata": {},
   "outputs": [
    {
     "data": {
      "text/plain": [
       "[1, 2, 3, 4]"
      ]
     },
     "execution_count": 53,
     "metadata": {},
     "output_type": "execute_result"
    }
   ],
   "source": [
    "# 2d list\n",
    "d=[[1,2,3,4],[3,4],[3,45,34]]\n",
    "d[0]"
   ]
  },
  {
   "cell_type": "code",
   "execution_count": null,
   "id": "2d0485d9-30f6-4496-a47a-a333d068ad6b",
   "metadata": {},
   "outputs": [],
   "source": []
  },
  {
   "cell_type": "code",
   "execution_count": null,
   "id": "37ccdecf-4747-4997-961a-563b26f77d1d",
   "metadata": {},
   "outputs": [],
   "source": [
    "nums = [10, 20, 30, 40, 50]\n",
    "\n",
    "# Positive indexing\n",
    "nums[0]   # 10\n",
    "nums[3]   # 40\n",
    "\n",
    "# Negative indexing\n",
    "nums[-1]  # 50\n",
    "nums[-3]  # 30"
   ]
  },
  {
   "cell_type": "code",
   "execution_count": 58,
   "id": "b9edc6f7-046e-4e96-8a68-5564b0d52605",
   "metadata": {},
   "outputs": [
    {
     "data": {
      "text/plain": [
       "4"
      ]
     },
     "execution_count": 58,
     "metadata": {},
     "output_type": "execute_result"
    }
   ],
   "source": [
    "d=[[1,2,3,4],[3,4],[3,45,34]]\n",
    "d[1][1]"
   ]
  },
  {
   "cell_type": "code",
   "execution_count": null,
   "id": "221ce7d3-c49f-4f3f-92fe-d2c6d037e0b2",
   "metadata": {},
   "outputs": [],
   "source": [
    "sequence[start:stop:step]\n",
    "start include\n",
    "stop exclude"
   ]
  },
  {
   "cell_type": "code",
   "execution_count": 63,
   "id": "08e8403b-1765-401d-bf15-7016573591ff",
   "metadata": {},
   "outputs": [
    {
     "name": "stdout",
     "output_type": "stream",
     "text": [
      "[40, 50, 60]\n",
      "[30, 40, 50]\n",
      "[10, 40]\n"
     ]
    }
   ],
   "source": [
    "nums = [10, 20, 30, 40, 50, 60]\n",
    "\n",
    "nums[1:4]    # [20, 30, 40]\n",
    "nums[:3]     # [10, 20, 30]\n",
    "nums[3:]     # [40, 50, 60]\n",
    "nums[::2]    # [10, 30, 50]\n",
    "nums[::-1]   # reverse: [60, 50, 40, 30, 20, 10]\n",
    "print(nums[-3:])\n",
    "print(nums[-4:-1])\n",
    "print(nums[0:6:3])"
   ]
  },
  {
   "cell_type": "code",
   "execution_count": 64,
   "id": "60bbdd35-8cac-4270-9850-32bd1b4ca041",
   "metadata": {},
   "outputs": [],
   "source": [
    "nums = [1, 2, 3]\n",
    "\n",
    "# Change element\n",
    "nums[1] = 200  # [1, 200, 3]\n",
    "\n",
    "# Add new element\n",
    "nums.append(4)  # [1, 200, 3, 4]\n",
    "\n",
    "# Insert at specific position\n",
    "nums.insert(1, 100)  # [1, 100, 200, 3, 4]\n",
    "\n",
    "# Extend with (multiple items)\n",
    "nums.extend([5, 6,8])  # [1, 100, 200, 3, 4, 5, 6,8]"
   ]
  },
  {
   "cell_type": "code",
   "execution_count": null,
   "id": "eaee41d0-f1e4-42dc-a73e-68c61f8f7fce",
   "metadata": {},
   "outputs": [],
   "source": [
    "append\n",
    "add a single element in the list\n",
    "modfy the list itself\n",
    "if y append element ,it will be  nested ,not merged\n",
    "in dataframe -to add one or more row ,but now it is replce by concat"
   ]
  },
  {
   "cell_type": "code",
   "execution_count": 67,
   "id": "725ab80a-13b4-4d5c-b01c-4afcf7b73b70",
   "metadata": {},
   "outputs": [
    {
     "data": {
      "text/plain": [
       "[1, 2, 3, 4]"
      ]
     },
     "execution_count": 67,
     "metadata": {},
     "output_type": "execute_result"
    }
   ],
   "source": [
    "nums = [1, 2, 3]\n",
    "nums.append(4) \n",
    "nums"
   ]
  },
  {
   "cell_type": "code",
   "execution_count": 68,
   "id": "ed57f57e-7f35-4b3e-b660-d7ad68e9b9f5",
   "metadata": {},
   "outputs": [
    {
     "data": {
      "text/plain": [
       "[1, 2, 3, [4, 5, 7]]"
      ]
     },
     "execution_count": 68,
     "metadata": {},
     "output_type": "execute_result"
    }
   ],
   "source": [
    "nums = [1, 2, 3]\n",
    "nums.append([4,5,7]) #append a list as single element\n",
    "nums"
   ]
  },
  {
   "cell_type": "code",
   "execution_count": null,
   "id": "00da86dd-e843-4a7c-b72e-6f3ab39c82d5",
   "metadata": {},
   "outputs": [],
   "source": [
    "#if y want to add multiple items individually use extend\n",
    "# Extend with (multiple items)\n",
    "nums.extend([5, 6,8])  # [1, 100, 200, 3, 4, 5, 6,8]"
   ]
  },
  {
   "cell_type": "code",
   "execution_count": null,
   "id": "5c0da2ae-5531-467e-9b66-042bb7d9bc3a",
   "metadata": {},
   "outputs": [],
   "source": [
    "#editing"
   ]
  },
  {
   "cell_type": "code",
   "execution_count": 74,
   "id": "b822da88-3a85-4d01-af47-03083b0483c9",
   "metadata": {},
   "outputs": [
    {
     "data": {
      "text/plain": [
       "[100, 4, 6, 7]"
      ]
     },
     "execution_count": 74,
     "metadata": {},
     "output_type": "execute_result"
    }
   ],
   "source": [
    "l=[2,4,6,7]\n",
    "l[0]=100\n",
    "l"
   ]
  },
  {
   "cell_type": "code",
   "execution_count": 76,
   "id": "3eb3c2f7-4d2a-4983-b3bc-46e0a16a7062",
   "metadata": {},
   "outputs": [
    {
     "data": {
      "text/plain": [
       "[100, 7]"
      ]
     },
     "execution_count": 76,
     "metadata": {},
     "output_type": "execute_result"
    }
   ],
   "source": [
    "l[0:2]=[100]\n",
    "l"
   ]
  },
  {
   "cell_type": "code",
   "execution_count": 77,
   "id": "7b22be73-4516-42f7-9e21-b675c62b0c0a",
   "metadata": {},
   "outputs": [
    {
     "data": {
      "text/plain": [
       "[100, 200, 300, 400]"
      ]
     },
     "execution_count": 77,
     "metadata": {},
     "output_type": "execute_result"
    }
   ],
   "source": [
    "l[1:4]=[200,300,400]\n",
    "l"
   ]
  },
  {
   "cell_type": "code",
   "execution_count": 78,
   "id": "2e691965-f66c-4810-b454-d5e79b380bf5",
   "metadata": {},
   "outputs": [
    {
     "data": {
      "text/plain": [
       "[100, 200, 5, 6, 7]"
      ]
     },
     "execution_count": 78,
     "metadata": {},
     "output_type": "execute_result"
    }
   ],
   "source": [
    "l[-2:]=[5,6,7] #list can grow and shrink accordingly\n",
    "l"
   ]
  },
  {
   "cell_type": "code",
   "execution_count": null,
   "id": "9ec999b3-e093-44ae-8427-2d65941d202d",
   "metadata": {},
   "outputs": [],
   "source": [
    "#deletion"
   ]
  },
  {
   "cell_type": "code",
   "execution_count": null,
   "id": "36b9369a-0d5e-4413-885a-f29dc2723086",
   "metadata": {},
   "outputs": [],
   "source": [
    "partially and fully"
   ]
  },
  {
   "cell_type": "code",
   "execution_count": 80,
   "id": "8cea2df7-37d0-41f5-abe0-24ae205a99de",
   "metadata": {},
   "outputs": [
    {
     "data": {
      "text/plain": [
       "[100, 200, 5]"
      ]
     },
     "execution_count": 80,
     "metadata": {},
     "output_type": "execute_result"
    }
   ],
   "source": [
    "del l[-1]\n",
    "l"
   ]
  },
  {
   "cell_type": "code",
   "execution_count": 81,
   "id": "975782bc-9f80-4985-bae3-1db71b2edf8b",
   "metadata": {},
   "outputs": [
    {
     "data": {
      "text/plain": [
       "[100]"
      ]
     },
     "execution_count": 81,
     "metadata": {},
     "output_type": "execute_result"
    }
   ],
   "source": [
    "del l[1:3]\n",
    "l\n"
   ]
  },
  {
   "cell_type": "code",
   "execution_count": 82,
   "id": "4a2e3a25-a5c7-4a47-ba3e-b17f62a8eed7",
   "metadata": {},
   "outputs": [],
   "source": [
    "del l"
   ]
  },
  {
   "cell_type": "code",
   "execution_count": 83,
   "id": "1d29720a-de0d-40fb-b10c-eaaaae3ea3e4",
   "metadata": {},
   "outputs": [
    {
     "ename": "NameError",
     "evalue": "name 'l' is not defined",
     "output_type": "error",
     "traceback": [
      "\u001b[1;31m---------------------------------------------------------------------------\u001b[0m",
      "\u001b[1;31mNameError\u001b[0m                                 Traceback (most recent call last)",
      "Cell \u001b[1;32mIn[83], line 1\u001b[0m\n\u001b[1;32m----> 1\u001b[0m l\n",
      "\u001b[1;31mNameError\u001b[0m: name 'l' is not defined"
     ]
    }
   ],
   "source": [
    "l"
   ]
  },
  {
   "cell_type": "code",
   "execution_count": null,
   "id": "c9838408-654c-4c3b-88c5-f52a9a13cb23",
   "metadata": {},
   "outputs": [],
   "source": []
  },
  {
   "cell_type": "code",
   "execution_count": null,
   "id": "94a44a97-9bb0-4e7e-91d2-784d076ae927",
   "metadata": {},
   "outputs": [],
   "source": []
  },
  {
   "cell_type": "code",
   "execution_count": null,
   "id": "f38145b5-bedd-4062-bf01-5674556022a9",
   "metadata": {},
   "outputs": [],
   "source": [
    "nums = [1, 2, 3, 4, 5]\n",
    "\n",
    "# Remove by value\n",
    "nums.remove(3)  # [1, 2, 4, 5]\n",
    "\n",
    "# Remove by index\n",
    "nums.pop(2)     # removes 4 → [1, 2, 5]\n",
    "\n",
    "# Remove last\n",
    "nums.pop()      # removes 5 → [1, 2]\n",
    "\n",
    "# Clear all elements\n",
    "nums.clear()    # [] #empty list"
   ]
  },
  {
   "cell_type": "markdown",
   "id": "0730ddd5-5100-4bc8-98fe-6afc8238fcd8",
   "metadata": {},
   "source": [
    "# operation"
   ]
  },
  {
   "cell_type": "code",
   "execution_count": null,
   "id": "eb1cf5d3-03a0-40f6-ad5a-d1123e2601c6",
   "metadata": {},
   "outputs": [],
   "source": [
    "#operation\n",
    "arithmetic  +\n",
    "membership   in,not in\n",
    "loop for"
   ]
  },
  {
   "cell_type": "code",
   "execution_count": 3,
   "id": "d5760d88-6c7b-4257-8041-88b2bec9fe91",
   "metadata": {},
   "outputs": [
    {
     "data": {
      "text/plain": [
       "[1, 2, 3, 4, 5, 6]"
      ]
     },
     "execution_count": 3,
     "metadata": {},
     "output_type": "execute_result"
    }
   ],
   "source": [
    "l1=[1,2,3]\n",
    "l2=[4,5,6]\n",
    "l3=l1+l2\n",
    "l3"
   ]
  },
  {
   "cell_type": "code",
   "execution_count": 6,
   "id": "d56e867c-00d9-4a88-ad68-d16c140572f5",
   "metadata": {},
   "outputs": [
    {
     "data": {
      "text/plain": [
       "[1, 2, 3, 1, 2, 3, 1, 2, 3, 1, 2, 3, 1, 2, 3, 1, 2, 3]"
      ]
     },
     "execution_count": 6,
     "metadata": {},
     "output_type": "execute_result"
    }
   ],
   "source": [
    "l1=[1,2,3]\n",
    "l1*6"
   ]
  },
  {
   "cell_type": "code",
   "execution_count": 85,
   "id": "4e2be3db-e873-4eb5-9aac-c90e775cb2dc",
   "metadata": {},
   "outputs": [
    {
     "data": {
      "text/plain": [
       "[5, 7, 9]"
      ]
     },
     "execution_count": 85,
     "metadata": {},
     "output_type": "execute_result"
    }
   ],
   "source": [
    "l4=[i+j for i,j in zip(l1,l2)]\n",
    "l4"
   ]
  },
  {
   "cell_type": "code",
   "execution_count": 4,
   "id": "1d3a804e-b33c-49d8-8edc-bc92a03125de",
   "metadata": {},
   "outputs": [
    {
     "data": {
      "text/plain": [
       "'renurenurenu'"
      ]
     },
     "execution_count": 4,
     "metadata": {},
     "output_type": "execute_result"
    }
   ],
   "source": [
    "s=\"renu\"\n",
    "s*3"
   ]
  },
  {
   "cell_type": "code",
   "execution_count": null,
   "id": "484e5b54-a40d-4109-a722-bab72546781f",
   "metadata": {},
   "outputs": [],
   "source": [
    "# Concatenation\n",
    "[1, 2] + [3, 4]  # [1, 2, 3, 4]\n",
    "\n",
    "# Repetition\n",
    "[0] * 4          # [0, 0, 0, 0]\n",
    "\n",
    "# Membership\n",
    "3 in [1, 2, 3]   # True"
   ]
  },
  {
   "cell_type": "code",
   "execution_count": 22,
   "id": "414b8bcd-9345-4565-90ef-fea3189f4a04",
   "metadata": {},
   "outputs": [
    {
     "data": {
      "text/plain": [
       "True"
      ]
     },
     "execution_count": 22,
     "metadata": {},
     "output_type": "execute_result"
    }
   ],
   "source": [
    "s=\"hello\",\"  world\"\n",
    "s[0]\n",
    "'  world' in s"
   ]
  },
  {
   "cell_type": "code",
   "execution_count": 25,
   "id": "9f52c294-9df0-4980-a5f9-8c0f929b0100",
   "metadata": {},
   "outputs": [
    {
     "data": {
      "text/plain": [
       "False"
      ]
     },
     "execution_count": 25,
     "metadata": {},
     "output_type": "execute_result"
    }
   ],
   "source": [
    "s=\"hello world\"\n",
    "'a' in s"
   ]
  },
  {
   "cell_type": "code",
   "execution_count": 30,
   "id": "7ead6e8c-7a94-41c1-8393-927bf96f9bed",
   "metadata": {},
   "outputs": [
    {
     "name": "stdout",
     "output_type": "stream",
     "text": [
      "10\n",
      "20\n",
      "30\n"
     ]
    }
   ],
   "source": [
    "nums = [10, 20, 30]\n",
    "\n",
    "# Simple loop\n",
    "for n in [10, 20, 30]:\n",
    "    print(n)\n",
    "    "
   ]
  },
  {
   "cell_type": "code",
   "execution_count": 29,
   "id": "d300503e-60e6-47b2-ad81-e24227cc48cb",
   "metadata": {},
   "outputs": [
    {
     "name": "stdout",
     "output_type": "stream",
     "text": [
      "0 20\n",
      "1 40\n",
      "2 renu\n"
     ]
    }
   ],
   "source": [
    "# With index\n",
    "for a,b in [(0, 20), (1, 40), (2, 'renu')]:\n",
    "    print(a, b)"
   ]
  },
  {
   "cell_type": "code",
   "execution_count": 97,
   "id": "884b5fdf-31ac-4752-a793-24d7fe5600a5",
   "metadata": {},
   "outputs": [
    {
     "data": {
      "text/plain": [
       "[(0, 10), (1, 20), (2, 30)]"
      ]
     },
     "execution_count": 97,
     "metadata": {},
     "output_type": "execute_result"
    }
   ],
   "source": [
    "a=list(enumerate([10,20,30]))\n",
    "a"
   ]
  },
  {
   "cell_type": "code",
   "execution_count": 98,
   "id": "f8610195-2702-4eb8-a7c4-f3981d4d62b0",
   "metadata": {},
   "outputs": [
    {
     "name": "stdout",
     "output_type": "stream",
     "text": [
      "0 10\n",
      "1 20\n",
      "2 30\n"
     ]
    }
   ],
   "source": [
    "for ind,val in enumerate([10,20,30]):\n",
    "    print(ind,val)"
   ]
  },
  {
   "cell_type": "markdown",
   "id": "a0b87c8f-d57f-4507-95e2-4418d0805579",
   "metadata": {},
   "source": [
    "# function"
   ]
  },
  {
   "cell_type": "code",
   "execution_count": 32,
   "id": "2771650f-bb11-4791-8249-b8e2735a12fb",
   "metadata": {},
   "outputs": [
    {
     "data": {
      "text/plain": [
       "1"
      ]
     },
     "execution_count": 32,
     "metadata": {},
     "output_type": "execute_result"
    }
   ],
   "source": [
    "l=[[1,2,3,4,5]]\n",
    "len(l)"
   ]
  },
  {
   "cell_type": "code",
   "execution_count": 33,
   "id": "e9d287e3-0722-42c6-9abf-339c4ac635ec",
   "metadata": {},
   "outputs": [
    {
     "data": {
      "text/plain": [
       "2"
      ]
     },
     "execution_count": 33,
     "metadata": {},
     "output_type": "execute_result"
    }
   ],
   "source": [
    "l=[[4,5,67],[2,3,4]]\n",
    "len(l) #len() returns the number of elements in the outer list.\n",
    "#min(l)"
   ]
  },
  {
   "cell_type": "code",
   "execution_count": 35,
   "id": "f85cd2fb-a96a-419f-83d9-3bb49c1dc8ce",
   "metadata": {},
   "outputs": [
    {
     "data": {
      "text/plain": [
       "2"
      ]
     },
     "execution_count": 35,
     "metadata": {},
     "output_type": "execute_result"
    }
   ],
   "source": [
    "l=[4,5,67,2,3,4]   #1d\n",
    "min(l)"
   ]
  },
  {
   "cell_type": "code",
   "execution_count": 38,
   "id": "ab497c7f-c2e7-43b5-8522-987606d47a49",
   "metadata": {},
   "outputs": [
    {
     "data": {
      "text/plain": [
       "[8, 5]"
      ]
     },
     "execution_count": 38,
     "metadata": {},
     "output_type": "execute_result"
    }
   ],
   "source": [
    "l=[[4,5],[8,5]]  #compare with first element\n",
    "max(l)"
   ]
  },
  {
   "cell_type": "code",
   "execution_count": 42,
   "id": "e57c7251-e1b1-418c-817d-ae6ee6fe9f5d",
   "metadata": {},
   "outputs": [
    {
     "data": {
      "text/plain": [
       "[14, 5, 12]"
      ]
     },
     "execution_count": 42,
     "metadata": {},
     "output_type": "execute_result"
    }
   ],
   "source": [
    "l=[[14,5,12],[4,5,5]]\n",
    "max(l)"
   ]
  },
  {
   "cell_type": "code",
   "execution_count": null,
   "id": "9db79df4-bcdf-4903-bc00-86bc5c0b3e73",
   "metadata": {},
   "outputs": [],
   "source": [
    "l=[4,5,67,2,3,4]\n",
    "l.count(2)"
   ]
  },
  {
   "cell_type": "code",
   "execution_count": 47,
   "id": "334081b7-7983-49f2-9eae-9f0543780a2b",
   "metadata": {},
   "outputs": [
    {
     "data": {
      "text/plain": [
       "2"
      ]
     },
     "execution_count": 47,
     "metadata": {},
     "output_type": "execute_result"
    }
   ],
   "source": [
    "l=[[14,5,12],[4,5,5],[4,5,5]]\n",
    "l.count([4,5,5]) #how many times x appears in the list"
   ]
  },
  {
   "cell_type": "code",
   "execution_count": null,
   "id": "bbf3efcb-4fbb-46a0-9d25-89c843f90108",
   "metadata": {},
   "outputs": [],
   "source": [
    "2d array\n",
    "will only match exact sublists, not elements inside the sublists."
   ]
  },
  {
   "cell_type": "code",
   "execution_count": 44,
   "id": "9d4bfd41-284c-4125-84ff-fea583bd67ba",
   "metadata": {},
   "outputs": [
    {
     "data": {
      "text/plain": [
       "1"
      ]
     },
     "execution_count": 44,
     "metadata": {},
     "output_type": "execute_result"
    }
   ],
   "source": [
    "#id array\n",
    "l=[2,35,4,32,2]\n",
    "l.count(32)"
   ]
  },
  {
   "cell_type": "code",
   "execution_count": null,
   "id": "9e964d80-6505-476d-80d7-0f0d7bf3fd4e",
   "metadata": {},
   "outputs": [],
   "source": [
    "list.index(x[, start[, end]])\n",
    "Purpose: Returns the index of the first occurrence of x in the list.\n",
    "value → The element you want to find\n",
    "start (optional) → Search from this index\n",
    "end (optional) → Search up to this index\n",
    "Returns: The index of the first match\n",
    "Raises: ValueError if the element is not found"
   ]
  },
  {
   "cell_type": "code",
   "execution_count": 51,
   "id": "378058ee-91ec-44f5-ae10-bbc83e5a5b67",
   "metadata": {},
   "outputs": [
    {
     "data": {
      "text/plain": [
       "3"
      ]
     },
     "execution_count": 51,
     "metadata": {},
     "output_type": "execute_result"
    }
   ],
   "source": [
    "l = [10, 20, 30, 20, 40]\n",
    "l.index(20)  # Output: 1, because the first 20 is at index 1\n",
    "l.index(20, 2)  # Output: 3, start searching from index 2"
   ]
  },
  {
   "cell_type": "markdown",
   "id": "218acf24-7666-4887-8474-a971081c59c1",
   "metadata": {},
   "source": []
  },
  {
   "cell_type": "code",
   "execution_count": null,
   "id": "40539087-0ecd-4741-b10d-44059d6a9ee0",
   "metadata": {},
   "outputs": [],
   "source": [
    "in 2d\n",
    "index() only matches entire elements, so it won’t find 5 inside [4,5,1]\n",
    "\n",
    "l = [[4,5,1],[4,5]]\n",
    "l.index([4,5,1])  # Output: 0\n",
    "l.index([4,5])    # Output: 1"
   ]
  },
  {
   "cell_type": "markdown",
   "id": "74c1f659-3cff-4351-b836-d92afc0ac9b4",
   "metadata": {},
   "source": [
    "# reverse"
   ]
  },
  {
   "cell_type": "code",
   "execution_count": 66,
   "id": "1b5a50a1-eb47-47e9-aab2-28a38eac3415",
   "metadata": {},
   "outputs": [
    {
     "data": {
      "text/plain": [
       "[6, 5, 4, 3, 2]"
      ]
     },
     "execution_count": 66,
     "metadata": {},
     "output_type": "execute_result"
    }
   ],
   "source": [
    "l=[2,3,4,5,6]\n",
    "l.reverse()\n",
    "l"
   ]
  },
  {
   "cell_type": "code",
   "execution_count": 67,
   "id": "823f827e-ee08-4048-ad4b-64e91146d1d6",
   "metadata": {},
   "outputs": [
    {
     "data": {
      "text/plain": [
       "[[5, 4], [1, 5, 4]]"
      ]
     },
     "execution_count": 67,
     "metadata": {},
     "output_type": "execute_result"
    }
   ],
   "source": [
    "l1=[[1, 5, 4], [5, 4]]\n",
    "l1.reverse()\n",
    "l1"
   ]
  },
  {
   "cell_type": "code",
   "execution_count": 68,
   "id": "77575b29-ff59-4449-a8bf-f24da8667370",
   "metadata": {},
   "outputs": [
    {
     "name": "stdout",
     "output_type": "stream",
     "text": [
      "[[4, 5, 1], [4, 5]]\n"
     ]
    }
   ],
   "source": [
    "l=[[1, 5, 4], [5, 4]]\n",
    "for i in l:        #[1,5,7]\n",
    "    i.reverse()\n",
    "\n",
    "print(l)"
   ]
  },
  {
   "cell_type": "markdown",
   "id": "06711385-0373-4d32-9d63-daab6f87f3b2",
   "metadata": {},
   "source": [
    "# permanent sort "
   ]
  },
  {
   "cell_type": "code",
   "execution_count": null,
   "id": "9ae9864e-e3f9-474d-8817-55547322c816",
   "metadata": {},
   "outputs": [],
   "source": [
    "sort() sorts elements inside each sublist in ascending order by default."
   ]
  },
  {
   "cell_type": "code",
   "execution_count": 70,
   "id": "c94a33b8-6855-47ad-9b19-eba396718601",
   "metadata": {},
   "outputs": [
    {
     "name": "stdout",
     "output_type": "stream",
     "text": [
      "[2, 3, 4, 6, 10, 78]\n"
     ]
    }
   ],
   "source": [
    "l1=[10,4,2,3,6,78]\n",
    "l1.sort()\n",
    "print(l1)"
   ]
  },
  {
   "cell_type": "code",
   "execution_count": 74,
   "id": "3652c7b3-bef1-466d-8904-96c65025f14b",
   "metadata": {},
   "outputs": [
    {
     "data": {
      "text/plain": [
       "[78, 6, 4, 3, 2, 1]"
      ]
     },
     "execution_count": 74,
     "metadata": {},
     "output_type": "execute_result"
    }
   ],
   "source": [
    "l1"
   ]
  },
  {
   "cell_type": "code",
   "execution_count": 75,
   "id": "28dfed51-db1f-420c-ab1c-c3b5f580ea65",
   "metadata": {},
   "outputs": [
    {
     "name": "stdout",
     "output_type": "stream",
     "text": [
      "[1, 2, 5]\n"
     ]
    }
   ],
   "source": [
    "l=[2,5,1]\n",
    "l.sort()\n",
    "print(l)"
   ]
  },
  {
   "cell_type": "code",
   "execution_count": 76,
   "id": "ebcc0982-e5ad-4712-8122-cb68e76d2bb0",
   "metadata": {},
   "outputs": [
    {
     "data": {
      "text/plain": [
       "[1, 2, 5]"
      ]
     },
     "execution_count": 76,
     "metadata": {},
     "output_type": "execute_result"
    }
   ],
   "source": [
    "l"
   ]
  },
  {
   "cell_type": "code",
   "execution_count": null,
   "id": "fe25f32a-431e-426d-9151-f89c9bcbb9da",
   "metadata": {},
   "outputs": [],
   "source": []
  },
  {
   "cell_type": "code",
   "execution_count": 73,
   "id": "a4cb40cf-d43b-4a6a-b777-bbc3d0c17a02",
   "metadata": {},
   "outputs": [
    {
     "name": "stdout",
     "output_type": "stream",
     "text": [
      "[78, 6, 4, 3, 2, 1]\n"
     ]
    }
   ],
   "source": [
    "l1=[1,4,2,3,6,78]\n",
    "l1.sort(reverse=True)\n",
    "print(l1)"
   ]
  },
  {
   "cell_type": "code",
   "execution_count": 77,
   "id": "16fed035-dd7c-4c93-89ab-dc5156ace357",
   "metadata": {},
   "outputs": [
    {
     "name": "stdout",
     "output_type": "stream",
     "text": [
      "[1, 4, 5][4, 5]"
     ]
    }
   ],
   "source": [
    "l = [[4, 5, 1], [4, 5]]\n",
    "for i in l:\n",
    "    i.sort()\n",
    "    print(i,end=\"\") "
   ]
  },
  {
   "cell_type": "code",
   "execution_count": null,
   "id": "931ea95e-3910-4d23-8138-5f6401223cf4",
   "metadata": {},
   "outputs": [],
   "source": [
    "sorted(iterable, key=None, reverse=False)"
   ]
  },
  {
   "cell_type": "code",
   "execution_count": null,
   "id": "cc2c6c3d-e96e-48f2-ac54-90fc413239a2",
   "metadata": {},
   "outputs": [],
   "source": [
    "l = [5, 2, 9, 1]\n",
    "new_list = sorted(l)\n",
    "print(new_list)  # Output: [1, 2, 5, 9]\n",
    "print(l)         # Original list remains: [5, 2, 9, 1]"
   ]
  },
  {
   "cell_type": "code",
   "execution_count": 80,
   "id": "dc2ab4fc-9f56-4869-8d4f-fa1ad420211d",
   "metadata": {},
   "outputs": [
    {
     "name": "stdout",
     "output_type": "stream",
     "text": [
      "[5, 2, 9, 1]\n",
      "[1, 2, 5, 9]\n"
     ]
    }
   ],
   "source": [
    "l = [5, 2, 9, 1]\n",
    "a=sorted(l)\n",
    "print(l)\n",
    "print(a)"
   ]
  },
  {
   "cell_type": "code",
   "execution_count": null,
   "id": "0b8a6706-032d-40b3-bf44-65419bf752e6",
   "metadata": {},
   "outputs": [],
   "source": [
    "#copy\n",
    "A shallow copy creates a new list object, \n",
    "but the elements themselves are references to the same objects in the original list.\n"
   ]
  },
  {
   "cell_type": "code",
   "execution_count": null,
   "id": "8a4b479e-fd26-45c3-9ce9-0f16dad30792",
   "metadata": {},
   "outputs": [],
   "source": [
    "\n",
    "\n",
    "#Using copy module\n",
    "import copy\n",
    "copy3 = copy.copy(l)"
   ]
  },
  {
   "cell_type": "code",
   "execution_count": 82,
   "id": "5f422c99-f819-4d76-b145-8344a25950fc",
   "metadata": {},
   "outputs": [
    {
     "name": "stdout",
     "output_type": "stream",
     "text": [
      "[1, 2, 20, 4, 5]\n",
      "[1, 2, 3, 4, 5]\n"
     ]
    }
   ],
   "source": [
    "#in 1d\n",
    "l=[1,2,3,4,5]\n",
    "import copy\n",
    "l1 = copy.copy(l)\n",
    "l1[2]=20\n",
    "print(l1)\n",
    "print(l)\n"
   ]
  },
  {
   "cell_type": "code",
   "execution_count": null,
   "id": "7352d4c5-af1c-4ecd-bca5-91e3224de817",
   "metadata": {},
   "outputs": [],
   "source": [
    "#in case of 2d\n",
    "it create a new outer list. But the inner lists are still the same objects:"
   ]
  },
  {
   "cell_type": "code",
   "execution_count": 84,
   "id": "1ca9f168-61a6-4d35-b692-a232bedfeb7b",
   "metadata": {},
   "outputs": [
    {
     "name": "stdout",
     "output_type": "stream",
     "text": [
      "[[100, 2], [3, 4]]\n",
      "[[100, 2], [3, 4]]\n"
     ]
    }
   ],
   "source": [
    "l = [[1, 2], [3, 4]]\n",
    "import copy\n",
    "l1 = copy.copy(l)\n",
    "l1[0][0] = 100\n",
    "print(l1)\n",
    "print(l)\n",
    "#print(id(l1[0]))\n",
    "#print(id(l[0]))"
   ]
  },
  {
   "cell_type": "code",
   "execution_count": null,
   "id": "2619da24-0fbb-4f37-bfe3-f87374802a53",
   "metadata": {},
   "outputs": [],
   "source": [
    "A deep copy duplicates all nested objects, \n",
    "so changes in the original list do not affect the copy."
   ]
  },
  {
   "cell_type": "code",
   "execution_count": 86,
   "id": "fd1bf0cc-e6b7-4b6e-a613-bc1d21d4e743",
   "metadata": {},
   "outputs": [
    {
     "name": "stdout",
     "output_type": "stream",
     "text": [
      "[[1, 2], [3, 4]]\n",
      "[[500, 2], [3, 4]]\n"
     ]
    }
   ],
   "source": [
    "import copy\n",
    "l = [[1, 2], [3, 4]]\n",
    "l1= copy.deepcopy(l)\n",
    "l[0][0] = 500\n",
    "print(l1) \n",
    "print(l)"
   ]
  },
  {
   "cell_type": "code",
   "execution_count": null,
   "id": "8f5018c9-5138-4fff-8ad9-ac4ad640915c",
   "metadata": {},
   "outputs": [],
   "source": []
  }
 ],
 "metadata": {
  "kernelspec": {
   "display_name": "Python [conda env:base] *",
   "language": "python",
   "name": "conda-base-py"
  },
  "language_info": {
   "codemirror_mode": {
    "name": "ipython",
    "version": 3
   },
   "file_extension": ".py",
   "mimetype": "text/x-python",
   "name": "python",
   "nbconvert_exporter": "python",
   "pygments_lexer": "ipython3",
   "version": "3.13.5"
  }
 },
 "nbformat": 4,
 "nbformat_minor": 5
}
