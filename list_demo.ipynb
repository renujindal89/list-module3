{
 "cells": [
  {
   "cell_type": "markdown",
   "id": "6854755a-5d48-4b41-aad7-adeb20ee125e",
   "metadata": {},
   "source": [
    "#  Introduction to Lists"
   ]
  },
  {
   "cell_type": "code",
   "execution_count": null,
   "id": "254b4c40-c3bb-4759-9f0c-a8b98e22ad6c",
   "metadata": {},
   "outputs": [],
   "source": [
    "A list is a mutable (changeable), ordered sequence of elements.\n",
    "Lists can hold items of any data type (including mixed types)."
   ]
  },
  {
   "cell_type": "markdown",
   "id": "2c77cbd3-d0c7-473f-87b9-0eb9cc8875ad",
   "metadata": {},
   "source": [
    "# list characterstics"
   ]
  },
  {
   "cell_type": "code",
   "execution_count": null,
   "id": "6995fbc0-c2d0-494d-b148-8203912a34c2",
   "metadata": {},
   "outputs": [],
   "source": [
    "list characterstics\n",
    "ordered\n",
    "items can be access\n",
    "changable\n",
    "heterogenous\n",
    "can have duplicate value\n",
    "are dynamic\n",
    "can be nested\n",
    "can contain any type of object"
   ]
  },
  {
   "cell_type": "markdown",
   "id": "adc76698-c41d-42b7-8413-6e9b99216228",
   "metadata": {},
   "source": [
    "# topic to be covered"
   ]
  },
  {
   "cell_type": "code",
   "execution_count": null,
   "id": "5bb9d46a-8627-4ebc-8f1a-6e45b16c704f",
   "metadata": {},
   "outputs": [],
   "source": [
    "access\n",
    "editing\n",
    "deleting\n",
    "operation\n",
    "function"
   ]
  },
  {
   "cell_type": "markdown",
   "id": "8ff17f2d-04e3-4f63-9e1c-9e3055b1ae0f",
   "metadata": {},
   "source": [
    "# how list look like "
   ]
  },
  {
   "cell_type": "code",
   "execution_count": null,
   "id": "ac18f68c-f47c-4f15-9630-d8388f730cc0",
   "metadata": {},
   "outputs": [],
   "source": [
    "comma seperated with in sq bracket\n",
    "we can store multiple information under one variable"
   ]
  },
  {
   "cell_type": "code",
   "execution_count": null,
   "id": "35dc8c11-5055-44a0-8284-38aa214e8281",
   "metadata": {},
   "outputs": [],
   "source": []
  },
  {
   "cell_type": "code",
   "execution_count": null,
   "id": "0f5c39be-1578-4f1a-a37d-419711783411",
   "metadata": {},
   "outputs": [],
   "source": []
  },
  {
   "cell_type": "code",
   "execution_count": null,
   "id": "8aabc8de-6b6f-4746-b913-5a9d9ab3e47e",
   "metadata": {},
   "outputs": [],
   "source": [
    "# empty list,1d,2d, type conversion"
   ]
  },
  {
   "cell_type": "code",
   "execution_count": 5,
   "id": "7b27e9b0-7c05-408a-923e-076feab8a97c",
   "metadata": {},
   "outputs": [
    {
     "name": "stdout",
     "output_type": "stream",
     "text": [
      "[1, 2, 3, 'renu']\n"
     ]
    }
   ],
   "source": [
    "l=[1,2,3,'renu']\n",
    "print(l)"
   ]
  },
  {
   "cell_type": "code",
   "execution_count": 6,
   "id": "f5ab4e87-1892-4d5a-9785-6da6d77f972f",
   "metadata": {},
   "outputs": [
    {
     "data": {
      "text/plain": [
       "[[1, 2], ['renu', 'ritu']]"
      ]
     },
     "execution_count": 6,
     "metadata": {},
     "output_type": "execute_result"
    }
   ],
   "source": [
    "l1=[[1,2],['renu','ritu']]\n",
    "l1"
   ]
  },
  {
   "cell_type": "code",
   "execution_count": null,
   "id": "43e481fa-b2bf-4934-ab5c-9b8c2465741b",
   "metadata": {},
   "outputs": [],
   "source": [
    "l"
   ]
  },
  {
   "cell_type": "code",
   "execution_count": 7,
   "id": "94d5837f-be60-439a-b40c-c0ddfb24bb62",
   "metadata": {},
   "outputs": [
    {
     "name": "stdout",
     "output_type": "stream",
     "text": [
      "['h', 'e', 'l', 'l', 'o', ' ', 'w', 'o', 'r', 'l', 'd']\n"
     ]
    }
   ],
   "source": [
    "s=\"hello world\"\n",
    "l=list(s)\n",
    "print(l)"
   ]
  },
  {
   "cell_type": "code",
   "execution_count": 8,
   "id": "6c612dc9-d8fa-4a88-9f68-71db54d63743",
   "metadata": {},
   "outputs": [
    {
     "ename": "TypeError",
     "evalue": "'int' object is not iterable",
     "output_type": "error",
     "traceback": [
      "\u001b[1;31m---------------------------------------------------------------------------\u001b[0m",
      "\u001b[1;31mTypeError\u001b[0m                                 Traceback (most recent call last)",
      "Cell \u001b[1;32mIn[8], line 2\u001b[0m\n\u001b[0;32m      1\u001b[0m n\u001b[38;5;241m=\u001b[39m\u001b[38;5;241m1234\u001b[39m\n\u001b[1;32m----> 2\u001b[0m n1\u001b[38;5;241m=\u001b[39m\u001b[38;5;28mlist\u001b[39m(n)\n\u001b[0;32m      3\u001b[0m n1\n",
      "\u001b[1;31mTypeError\u001b[0m: 'int' object is not iterable"
     ]
    }
   ],
   "source": [
    "n=1234\n",
    "n1=list(n)\n",
    "n1"
   ]
  },
  {
   "cell_type": "code",
   "execution_count": null,
   "id": "0409c013-b1f3-42c3-9897-3a3d407806d2",
   "metadata": {},
   "outputs": [],
   "source": [
    "# Each item in the list represents a product in the cart\n",
    "cart = [\"T-shirt\", \"Shoes\", \"Watch\"]\n",
    "\n",
    "# Add a new item\n",
    "cart.append(\"Hat\")\n",
    "print(cart)\n",
    "\n",
    "# Remove an item\n",
    "cart.remove(\"Shoes\")\n",
    "\n",
    "# Display all items\n",
    "print(\"Your Cart:\")\n",
    "for item in cart:\n",
    "    print( item)"
   ]
  },
  {
   "cell_type": "code",
   "execution_count": 10,
   "id": "49fd09de-cdd5-40e2-890c-1409d7dd0f49",
   "metadata": {},
   "outputs": [
    {
     "name": "stdout",
     "output_type": "stream",
     "text": [
      "['T-shirt', 'Shoes', 'Watch', 'Hat']\n",
      "['T-shirt', 'Watch', 'Hat']\n"
     ]
    }
   ],
   "source": [
    "cart = [\"T-shirt\", \"Shoes\", \"Watch\"]\n",
    "\n",
    "# Add a new item\n",
    "cart.append(\"Hat\")\n",
    "print(cart)\n",
    "cart.remove(\"Shoes\")\n",
    "print(cart)"
   ]
  },
  {
   "cell_type": "code",
   "execution_count": null,
   "id": "c9c0363a-0a58-44e4-b6ba-d22ce7dc460e",
   "metadata": {},
   "outputs": [],
   "source": [
    "item1='t-shirt'\n",
    "item2='shoes'\n"
   ]
  },
  {
   "cell_type": "code",
   "execution_count": 11,
   "id": "c16f45c2-70c6-4a45-b225-1ed4ae2e2a35",
   "metadata": {},
   "outputs": [
    {
     "name": "stdout",
     "output_type": "stream",
     "text": [
      "T-shirt\n",
      "Shoes\n",
      "Watch\n"
     ]
    }
   ],
   "source": [
    "cart = [\"T-shirt\", \"Shoes\", \"Watch\"]\n",
    "for i in cart:\n",
    "    print(i)"
   ]
  },
  {
   "cell_type": "code",
   "execution_count": 7,
   "id": "8854034a-8094-4eee-bf2e-c87efaa6fda4",
   "metadata": {},
   "outputs": [
    {
     "name": "stdout",
     "output_type": "stream",
     "text": [
      "        0\n",
      "0    renu\n",
      "1    ritu\n",
      "2   sahil\n",
      "3  yuvaan\n",
      "4  advika\n"
     ]
    }
   ],
   "source": [
    "#use in pandas \n",
    "#take every element as a row\n",
    "# single element as single row\n",
    "import pandas as pd\n",
    "l=['renu','ritu','sahil','yuvaan','advika']\n",
    "\n",
    "df1 = pd.DataFrame(l)\n",
    "print(df1)"
   ]
  },
  {
   "cell_type": "code",
   "execution_count": 5,
   "id": "02fbc501-6603-49c4-be9c-30018efae8fa",
   "metadata": {},
   "outputs": [
    {
     "data": {
      "text/plain": [
       "'advika'"
      ]
     },
     "execution_count": 5,
     "metadata": {},
     "output_type": "execute_result"
    }
   ],
   "source": [
    "l=['renu','ritu','sahil','yuvaan','advika']\n",
    "l[4]"
   ]
  },
  {
   "cell_type": "code",
   "execution_count": null,
   "id": "67095ddc-36a4-40d5-a7b6-a2e6eb46d7d7",
   "metadata": {},
   "outputs": [],
   "source": [
    "l=['renu','ritu','sahil','yuvaan','advika']\n",
    "print(l))\n",
    "print(l[0])\n",
    "print(l[1])\n",
    "print(l[2])\n",
    "print(l[3])"
   ]
  },
  {
   "cell_type": "code",
   "execution_count": 81,
   "id": "8205db26-39bb-421e-8b52-d785aadf0796",
   "metadata": {},
   "outputs": [
    {
     "name": "stdout",
     "output_type": "stream",
     "text": [
      "   c1  c2  c3\n",
      "0   1   6   3\n",
      "1   1   9   2\n",
      "2   3  23   4\n"
     ]
    },
    {
     "data": {
      "text/plain": [
       "'c1'"
      ]
     },
     "execution_count": 81,
     "metadata": {},
     "output_type": "execute_result"
    }
   ],
   "source": [
    "#multiple elements in single row use 2d\n",
    "\n",
    "l1= [[1,6,3],[1,9,2],[3,23,4]]\n",
    "\n",
    "df = pd.DataFrame(l1,columns=['c1','c2','c3'])\n",
    "print(df)\n",
    "min(df)"
   ]
  },
  {
   "cell_type": "code",
   "execution_count": null,
   "id": "58933c04-5178-4034-986e-412c78182877",
   "metadata": {},
   "outputs": [],
   "source": []
  },
  {
   "cell_type": "code",
   "execution_count": 13,
   "id": "6bad7166-dca2-4073-9998-f85cbe225f80",
   "metadata": {},
   "outputs": [
    {
     "data": {
      "text/plain": [
       "'xyz'"
      ]
     },
     "execution_count": 13,
     "metadata": {},
     "output_type": "execute_result"
    }
   ],
   "source": [
    "l1[2][0]"
   ]
  },
  {
   "cell_type": "code",
   "execution_count": 5,
   "id": "e401b40f-94ed-4d6e-95de-89a57307870f",
   "metadata": {},
   "outputs": [
    {
     "name": "stdout",
     "output_type": "stream",
     "text": [
      "[['renu', 36, 'ambala'], ['yuvaan', 9, 'ambala']]\n",
      "['renu', 36, 'ambala']\n",
      "['yuvaan', 9, 'ambala']\n"
     ]
    }
   ],
   "source": [
    "print(l1)\n",
    "print(l1[0])\n",
    "print(l1[1])\n"
   ]
  },
  {
   "cell_type": "markdown",
   "id": "7a3bdd29-eb4c-488c-ab8c-7d22d4ed2a58",
   "metadata": {},
   "source": [
    "# access"
   ]
  },
  {
   "cell_type": "code",
   "execution_count": null,
   "id": "a4a794cf-aa8c-4170-8e9d-6fa82abe2e7a",
   "metadata": {},
   "outputs": [],
   "source": [
    "#1id,2d\n",
    "#index\n",
    "#slicing"
   ]
  },
  {
   "cell_type": "code",
   "execution_count": null,
   "id": "b336edba-aa7e-45af-acdc-9767c00eb722",
   "metadata": {},
   "outputs": [],
   "source": [
    "nums = [10, 20, 30, 40, 50]\n",
    "# Positive indexing\n",
    "nums[0]   # 10\n",
    "nums[3]   # 40\n",
    "# Negative indexing\n",
    "nums[-1]  # 50\n",
    "nums[-3]  # 30"
   ]
  },
  {
   "cell_type": "code",
   "execution_count": null,
   "id": "b944855a-bf37-4a39-ab8b-e432c3959907",
   "metadata": {},
   "outputs": [],
   "source": [
    "d=[[1,2,3,4],[3,4],[3,45,34]]\n",
    "d[1][1]"
   ]
  },
  {
   "cell_type": "markdown",
   "id": "2c6c785f-cdd3-421c-a1d5-e6cb06dba2af",
   "metadata": {},
   "source": [
    "# slicing"
   ]
  },
  {
   "cell_type": "code",
   "execution_count": null,
   "id": "cfa6f6e1-9a2b-4003-9422-80b55cc83e55",
   "metadata": {},
   "outputs": [],
   "source": [
    "sequence[start:stop:step]\n",
    "start include\n",
    "stop exclude"
   ]
  },
  {
   "cell_type": "code",
   "execution_count": 33,
   "id": "a70527d2-f34b-4d0c-8d17-88cf1192f965",
   "metadata": {},
   "outputs": [
    {
     "data": {
      "text/plain": [
       "[10, 20, 30]"
      ]
     },
     "execution_count": 33,
     "metadata": {},
     "output_type": "execute_result"
    }
   ],
   "source": [
    "l = [10, 20, 30, 40]\n",
    "l[-4:-1]\n"
   ]
  },
  {
   "cell_type": "code",
   "execution_count": null,
   "id": "5b81da6a-8ece-459e-94cf-896cc69f7c70",
   "metadata": {},
   "outputs": [],
   "source": [
    "nums[1:4]    # [20, 30, 40]\n",
    "nums[:3]     # [10, 20, 30]\n",
    "nums[3:]     # [40, 50, 60]\n",
    "nums[::2]    # [10, 30, 50]\n",
    "nums[::-1]   # reverse: [60, 50, 40, 30, 20, 10]\n",
    "print(nums[-3:]) # [40, 50, 60]\n",
    "print(nums[-4:-1]) #[30, 40, 50]\n",
    "print(nums[0:6:3]) #[10, 40]"
   ]
  },
  {
   "cell_type": "markdown",
   "id": "f1ca4b52-3c71-4467-bcc2-f11c0f026b6d",
   "metadata": {},
   "source": [
    "# Editing"
   ]
  },
  {
   "cell_type": "markdown",
   "id": "8fbbbef4-f9c6-4eb7-a499-c1a1165de066",
   "metadata": {},
   "source": [
    "# append"
   ]
  },
  {
   "cell_type": "code",
   "execution_count": null,
   "id": "492cc0db-9ee7-4b7c-95a1-5bd872eb54f5",
   "metadata": {},
   "outputs": [],
   "source": [
    "\n",
    "add as a single element at the end of the list\n",
    "modify the list itself\n",
    "if we append element ,it will be  nested ,not merged"
   ]
  },
  {
   "cell_type": "code",
   "execution_count": 40,
   "id": "a23a0491-1249-4882-a780-849b28ae9a1d",
   "metadata": {},
   "outputs": [
    {
     "name": "stdout",
     "output_type": "stream",
     "text": [
      "[1, 2, 3, 4]\n"
     ]
    }
   ],
   "source": [
    "# Add new element\n",
    "nums = [1, 2, 3]\n",
    "nums.append(4)  # [1, 200, 3, 4]\n",
    "print(nums)"
   ]
  },
  {
   "cell_type": "code",
   "execution_count": 44,
   "id": "828ff26c-0336-4e96-adc9-f6127fb521ff",
   "metadata": {},
   "outputs": [
    {
     "data": {
      "text/plain": [
       "7"
      ]
     },
     "execution_count": 44,
     "metadata": {},
     "output_type": "execute_result"
    }
   ],
   "source": [
    "nums = [1, 2, 3]\n",
    "nums.append([4,5,7]) #append a list as single element\n",
    "nums[3][2]"
   ]
  },
  {
   "cell_type": "code",
   "execution_count": 48,
   "id": "f1478199-8e6f-418a-93b9-d00116e2a128",
   "metadata": {},
   "outputs": [
    {
     "data": {
      "text/plain": [
       "[1, 100, 2, 3]"
      ]
     },
     "execution_count": 48,
     "metadata": {},
     "output_type": "execute_result"
    }
   ],
   "source": [
    "# Insert at specific position\n",
    "nums = [1, 2, 3]\n",
    "nums.insert(1, 100) \n",
    "nums# [1, 100,3]"
   ]
  },
  {
   "cell_type": "code",
   "execution_count": null,
   "id": "6daaa441-f978-48e4-872e-f9c66bef7b45",
   "metadata": {},
   "outputs": [],
   "source": [
    "#if we want to add multiple items individually use extend\n",
    "# Extend with (multiple items)\n",
    "#You can extend a list with any iterable (not just another list)."
   ]
  },
  {
   "cell_type": "code",
   "execution_count": 46,
   "id": "33b8f828-22af-4da9-922d-49ff8ef0d19c",
   "metadata": {},
   "outputs": [
    {
     "data": {
      "text/plain": [
       "6"
      ]
     },
     "execution_count": 46,
     "metadata": {},
     "output_type": "execute_result"
    }
   ],
   "source": [
    "nums = [1, 2, 3]\n",
    "nums.extend([5, 6,8])  # [1, 100, 200, 3, 4, 5, 6,8]\n",
    "nums[4]"
   ]
  },
  {
   "cell_type": "markdown",
   "id": "f608a43a-5488-448b-9190-e5e4b6b31a41",
   "metadata": {},
   "source": [
    "# Difference Between append() and extend()"
   ]
  },
  {
   "cell_type": "code",
   "execution_count": 50,
   "id": "d006983b-f02b-46e2-9bc0-d51b8b459977",
   "metadata": {},
   "outputs": [
    {
     "name": "stdout",
     "output_type": "stream",
     "text": [
      "append: ['apple', 'banana', ['cherry', 'mango']]\n",
      "['cherry', 'mango']\n"
     ]
    }
   ],
   "source": [
    "l1= [\"apple\", \"banana\"]\n",
    "l2 = [\"cherry\", \"mango\"]\n",
    "\n",
    "l1.append(l2)\n",
    "print(\"append:\", l1)\n",
    "print(l2)"
   ]
  },
  {
   "cell_type": "code",
   "execution_count": 52,
   "id": "503d8cb6-6c80-4fb5-868d-5399c1876bf5",
   "metadata": {},
   "outputs": [
    {
     "name": "stdout",
     "output_type": "stream",
     "text": [
      "extend: ['apple', 'banana', 'cherry', 'mango']\n",
      "['cherry', 'mango']\n"
     ]
    }
   ],
   "source": [
    "l1 = [\"apple\", \"banana\"]\n",
    "l1.extend(l2)\n",
    "print(\"extend:\", l1)\n",
    "print(l2)"
   ]
  },
  {
   "cell_type": "markdown",
   "id": "02acad92-dc70-4669-b4ef-ce771152e301",
   "metadata": {},
   "source": [
    "# Editing"
   ]
  },
  {
   "cell_type": "code",
   "execution_count": null,
   "id": "bb983aad-4bb0-43a5-afec-4d303a628bdf",
   "metadata": {},
   "outputs": [],
   "source": [
    "#using index [8]\n",
    "#using slicing [1:3]=[100,200]\n",
    "#[1:3]=[100]\n",
    "#l[-2:]=[5,6,7] #list can grow and shrink accordingly\n"
   ]
  },
  {
   "cell_type": "code",
   "execution_count": null,
   "id": "d5e85724-51dd-43ab-ac44-6d2c4d23eafe",
   "metadata": {},
   "outputs": [],
   "source": [
    "l=[2,4,6,7]\n",
    "l[0]=100\n",
    "l"
   ]
  },
  {
   "cell_type": "code",
   "execution_count": 56,
   "id": "77bfbc66-2546-41ba-8f40-39e7db747e5d",
   "metadata": {},
   "outputs": [
    {
     "data": {
      "text/plain": [
       "[100, 7]"
      ]
     },
     "execution_count": 56,
     "metadata": {},
     "output_type": "execute_result"
    }
   ],
   "source": [
    "l=[2,4,6,7]\n",
    "l[0:3]=[100]\n",
    "l"
   ]
  },
  {
   "cell_type": "code",
   "execution_count": null,
   "id": "4da94b88-1c87-43df-a6ee-d4c4597cb754",
   "metadata": {},
   "outputs": [],
   "source": [
    "l=[2,4,6,7]\n",
    "l[0]=200\n",
    "l[1]=300\n",
    "l[2]=400"
   ]
  },
  {
   "cell_type": "code",
   "execution_count": 57,
   "id": "1b9d8df6-abdf-4a63-bcc8-2a0a49b591db",
   "metadata": {},
   "outputs": [
    {
     "data": {
      "text/plain": [
       "[2, 200, 300, 400]"
      ]
     },
     "execution_count": 57,
     "metadata": {},
     "output_type": "execute_result"
    }
   ],
   "source": [
    "l=[2,4,6,7]\n",
    "l[1:4]=[200,300,400]\n",
    "l"
   ]
  },
  {
   "cell_type": "code",
   "execution_count": 62,
   "id": "b0385a29-fa27-4ab7-92dc-c6e9ae8557c0",
   "metadata": {},
   "outputs": [
    {
     "name": "stdout",
     "output_type": "stream",
     "text": [
      "8\n",
      "[2, 4, 6, 7, 8, 5, 5]\n",
      "7\n"
     ]
    }
   ],
   "source": [
    "l=[2,4,6,7,8,5,6,70]\n",
    "print(len(l))\n",
    "l[-2:]=[5] #list can grow and shrink accordingly\n",
    "print(l)\n",
    "print(len(l))"
   ]
  },
  {
   "cell_type": "markdown",
   "id": "c2ef83c5-0e0a-409c-8d2c-bfb658c250f8",
   "metadata": {},
   "source": [
    "# deletion"
   ]
  },
  {
   "cell_type": "code",
   "execution_count": null,
   "id": "17b81215-0c0a-4730-adc9-f40474f44e4a",
   "metadata": {},
   "outputs": [],
   "source": [
    "partially and fully\n",
    "#l[-1],l[1:3],del l"
   ]
  },
  {
   "cell_type": "code",
   "execution_count": 63,
   "id": "38072403-8320-4810-8e17-d79e2753b9b8",
   "metadata": {},
   "outputs": [
    {
     "data": {
      "text/plain": [
       "[2, 4, 6]"
      ]
     },
     "execution_count": 63,
     "metadata": {},
     "output_type": "execute_result"
    }
   ],
   "source": [
    "l=[2,4,6,7] #using index\n",
    "del l[-1]\n",
    "l"
   ]
  },
  {
   "cell_type": "code",
   "execution_count": null,
   "id": "d54e7d8c-5246-42a3-9996-4b0240c8a6e4",
   "metadata": {},
   "outputs": [],
   "source": []
  },
  {
   "cell_type": "code",
   "execution_count": 64,
   "id": "9d54bab2-2033-42f4-a491-b762539f6035",
   "metadata": {},
   "outputs": [
    {
     "data": {
      "text/plain": [
       "[2]"
      ]
     },
     "execution_count": 64,
     "metadata": {},
     "output_type": "execute_result"
    }
   ],
   "source": [
    "del l[1:3]\n",
    "l\n"
   ]
  },
  {
   "cell_type": "code",
   "execution_count": 65,
   "id": "e576dae1-f6cb-40e6-8624-a6be0181d260",
   "metadata": {},
   "outputs": [],
   "source": [
    "del l"
   ]
  },
  {
   "cell_type": "code",
   "execution_count": 66,
   "id": "9d1b5ed2-3f18-4abb-9f36-23224b01c82d",
   "metadata": {},
   "outputs": [
    {
     "ename": "NameError",
     "evalue": "name 'l' is not defined",
     "output_type": "error",
     "traceback": [
      "\u001b[1;31m---------------------------------------------------------------------------\u001b[0m",
      "\u001b[1;31mNameError\u001b[0m                                 Traceback (most recent call last)",
      "Cell \u001b[1;32mIn[66], line 1\u001b[0m\n\u001b[1;32m----> 1\u001b[0m l\n",
      "\u001b[1;31mNameError\u001b[0m: name 'l' is not defined"
     ]
    }
   ],
   "source": [
    "l"
   ]
  },
  {
   "cell_type": "code",
   "execution_count": 67,
   "id": "653ac7bb-fd8b-4acc-b7d0-14b059782a13",
   "metadata": {},
   "outputs": [],
   "source": [
    "nums = [1, 2, 3, 4, 5]\n",
    "\n",
    "# Remove by value\n",
    "nums.remove(3)  # [1, 2, 4, 5]"
   ]
  },
  {
   "cell_type": "code",
   "execution_count": 68,
   "id": "1df2c474-4522-48ea-9701-605540927167",
   "metadata": {},
   "outputs": [
    {
     "data": {
      "text/plain": [
       "[1, 2, 4, 5]"
      ]
     },
     "execution_count": 68,
     "metadata": {},
     "output_type": "execute_result"
    }
   ],
   "source": [
    "nums"
   ]
  },
  {
   "cell_type": "code",
   "execution_count": 70,
   "id": "851ca792-7e29-49dc-be75-95baf09f8176",
   "metadata": {},
   "outputs": [
    {
     "data": {
      "text/plain": [
       "[1, 5]"
      ]
     },
     "execution_count": 70,
     "metadata": {},
     "output_type": "execute_result"
    }
   ],
   "source": [
    "# Remove by index\n",
    "nums.pop(1)     # removes 4 → [1, 2, 5]\n",
    "nums"
   ]
  },
  {
   "cell_type": "code",
   "execution_count": null,
   "id": "16299ed2-737a-4a32-8fa8-c04531a9ce1f",
   "metadata": {},
   "outputs": [],
   "source": [
    "# Remove last\n",
    "nums.pop()      # removes 5 → [1, 2]\n",
    "\n",
    "# Clear all elements\n",
    "nums.clear()    # [] #empty list"
   ]
  },
  {
   "cell_type": "code",
   "execution_count": 71,
   "id": "9770430a-8b10-4720-9f5d-c026a823575a",
   "metadata": {},
   "outputs": [],
   "source": [
    "nums.clear() "
   ]
  },
  {
   "cell_type": "code",
   "execution_count": 73,
   "id": "84965b50-ae9b-4c78-bbfa-e2e08bf781b5",
   "metadata": {},
   "outputs": [],
   "source": [
    "del nums"
   ]
  },
  {
   "cell_type": "code",
   "execution_count": 74,
   "id": "e234c115-e565-4be5-9981-268803162d97",
   "metadata": {},
   "outputs": [
    {
     "ename": "NameError",
     "evalue": "name 'nums' is not defined",
     "output_type": "error",
     "traceback": [
      "\u001b[1;31m---------------------------------------------------------------------------\u001b[0m",
      "\u001b[1;31mNameError\u001b[0m                                 Traceback (most recent call last)",
      "Cell \u001b[1;32mIn[74], line 1\u001b[0m\n\u001b[1;32m----> 1\u001b[0m nums\n",
      "\u001b[1;31mNameError\u001b[0m: name 'nums' is not defined"
     ]
    }
   ],
   "source": [
    "nums"
   ]
  },
  {
   "cell_type": "markdown",
   "id": "4285a3b8-3f36-48a7-9e0a-a82cc2d71dc1",
   "metadata": {},
   "source": [
    "# operations"
   ]
  },
  {
   "cell_type": "code",
   "execution_count": null,
   "id": "be43acfb-bbdb-4079-ace6-b262fb5e8c6b",
   "metadata": {},
   "outputs": [],
   "source": []
  },
  {
   "cell_type": "code",
   "execution_count": null,
   "id": "ef68b405-da8c-4d50-907a-72195a5c213c",
   "metadata": {},
   "outputs": [],
   "source": []
  },
  {
   "cell_type": "code",
   "execution_count": null,
   "id": "3d545a08-2eb2-40f8-a0c3-6c90119b9a0c",
   "metadata": {},
   "outputs": [],
   "source": []
  },
  {
   "cell_type": "code",
   "execution_count": null,
   "id": "7b7fc0ca-e855-4334-babb-485d2a419cad",
   "metadata": {},
   "outputs": [],
   "source": []
  },
  {
   "cell_type": "code",
   "execution_count": null,
   "id": "3f8beb73-33ff-47f5-a8b5-760619994404",
   "metadata": {},
   "outputs": [],
   "source": []
  }
 ],
 "metadata": {
  "kernelspec": {
   "display_name": "Python [conda env:base] *",
   "language": "python",
   "name": "conda-base-py"
  },
  "language_info": {
   "codemirror_mode": {
    "name": "ipython",
    "version": 3
   },
   "file_extension": ".py",
   "mimetype": "text/x-python",
   "name": "python",
   "nbconvert_exporter": "python",
   "pygments_lexer": "ipython3",
   "version": "3.13.5"
  }
 },
 "nbformat": 4,
 "nbformat_minor": 5
}
